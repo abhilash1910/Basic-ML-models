{
 "cells": [
  {
   "cell_type": "code",
   "execution_count": 3,
   "metadata": {},
   "outputs": [
    {
     "name": "stdout",
     "output_type": "stream",
     "text": [
      "   ID  Age  Experience  Income  ZIP Code  Family  CCAvg  Education  Mortgage  \\\n",
      "0   1   25           1      49     91107       4    1.6          1         0   \n",
      "1   2   45          19      34     90089       3    1.5          1         0   \n",
      "2   3   39          15      11     94720       1    1.0          1         0   \n",
      "3   4   35           9     100     94112       1    2.7          2         0   \n",
      "4   5   35           8      45     91330       4    1.0          2         0   \n",
      "\n",
      "   Personal Loan  Securities Account  CD Account  Online  CreditCard  \n",
      "0              0                   1           0       0           0  \n",
      "1              0                   1           0       0           0  \n",
      "2              0                   0           0       0           0  \n",
      "3              0                   0           0       0           0  \n",
      "4              0                   0           0       0           1  \n"
     ]
    }
   ],
   "source": [
    "import numpy as np;\n",
    "import pandas as pd;\n",
    "import seaborn as sns;\n",
    "import matplotlib.pyplot as plt;\n",
    "\n",
    "\n",
    "\n",
    "df= pd.read_csv(\"C:\\\\Users\\\\User\\\\Desktop\\\\Bank_Personal_Loan_Modelling.csv\");\n",
    "print(df.head());"
   ]
  },
  {
   "cell_type": "code",
   "execution_count": 5,
   "metadata": {},
   "outputs": [
    {
     "name": "stdout",
     "output_type": "stream",
     "text": [
      "   ID  Age  Experience  Income  ZIP Code  Family  CCAvg  Education  Mortgage  \\\n",
      "0   1   25           1      49     91107       4    1.6          1         0   \n",
      "1   2   45          19      34     90089       3    1.5          1         0   \n",
      "2   3   39          15      11     94720       1    1.0          1         0   \n",
      "3   4   35           9     100     94112       1    2.7          2         0   \n",
      "4   5   35           8      45     91330       4    1.0          2         0   \n",
      "\n",
      "   Securities Account  CD Account  Online  CreditCard  Personal Loan  \n",
      "0                   1           0       0           0              0  \n",
      "1                   1           0       0           0              0  \n",
      "2                   0           0       0           0              0  \n",
      "3                   0           0       0           0              0  \n",
      "4                   0           0       0           1              0  \n"
     ]
    }
   ],
   "source": [
    "features=df.columns.drop(\"Personal Loan\");\n",
    "target=[\"Personal Loan\"];\n",
    "\n",
    "df_encode=pd.get_dummies(df[features]);\n",
    "df_encode[\"Personal Loan\"]=df[\"Personal Loan\"];\n",
    "\n",
    "print(df_encode.head());\n",
    "\n"
   ]
  },
  {
   "cell_type": "code",
   "execution_count": 8,
   "metadata": {},
   "outputs": [
    {
     "name": "stdout",
     "output_type": "stream",
     "text": [
      "        ID  Age  Experience  Income  ZIP Code  Family  CCAvg  Education  \\\n",
      "1036  1037   53          28      55     94720       4   0.90          1   \n",
      "1747  1748   29           5      21     90717       4   0.40          2   \n",
      "648    649   50          25      34     95621       1   1.30          2   \n",
      "1877  1878   51          24      78     90037       1   2.67          2   \n",
      "3989  3990   49          25      90     92709       4   1.40          2   \n",
      "\n",
      "      Mortgage  Securities Account  CD Account  Online  CreditCard  \\\n",
      "1036       119                   0           0       1           1   \n",
      "1747        89                   0           0       0           1   \n",
      "648          0                   0           0       1           0   \n",
      "1877         0                   0           0       1           0   \n",
      "3989         0                   1           0       1           0   \n",
      "\n",
      "      Personal Loan  \n",
      "1036              0  \n",
      "1747              0  \n",
      "648               0  \n",
      "1877              0  \n",
      "3989              0  \n",
      "        ID  Age  Experience  Income  ZIP Code  Family  CCAvg  Education  \\\n",
      "2563  2564   39          13      94     90401       1   1.50          3   \n",
      "2668  2669   60          35     113     94507       1   0.90          1   \n",
      "750    751   29           5     138     93106       2   4.33          1   \n",
      "3184  3185   39          15     141     92354       2   8.00          1   \n",
      "2811  2812   36          12      62     94065       4   0.10          2   \n",
      "\n",
      "      Mortgage  Securities Account  CD Account  Online  CreditCard  \\\n",
      "2563         0                   0           0       0           1   \n",
      "2668       406                   0           0       1           0   \n",
      "750          0                   0           0       1           0   \n",
      "3184         0                   0           0       1           0   \n",
      "2811       145                   0           0       0           0   \n",
      "\n",
      "      Personal Loan  \n",
      "2563              0  \n",
      "2668              0  \n",
      "750               0  \n",
      "3184              0  \n",
      "2811              0  \n",
      "<class 'pandas.core.frame.DataFrame'>\n",
      "Int64Index: 4000 entries, 1036 to 4695\n",
      "Data columns (total 14 columns):\n",
      "ID                    4000 non-null int64\n",
      "Age                   4000 non-null int64\n",
      "Experience            4000 non-null int64\n",
      "Income                4000 non-null int64\n",
      "ZIP Code              4000 non-null int64\n",
      "Family                4000 non-null int64\n",
      "CCAvg                 4000 non-null float64\n",
      "Education             4000 non-null int64\n",
      "Mortgage              4000 non-null int64\n",
      "Securities Account    4000 non-null int64\n",
      "CD Account            4000 non-null int64\n",
      "Online                4000 non-null int64\n",
      "CreditCard            4000 non-null int64\n",
      "Personal Loan         4000 non-null int64\n",
      "dtypes: float64(1), int64(13)\n",
      "memory usage: 468.8 KB\n",
      "None\n",
      "<class 'pandas.core.frame.DataFrame'>\n",
      "Int64Index: 1000 entries, 2563 to 3058\n",
      "Data columns (total 14 columns):\n",
      "ID                    1000 non-null int64\n",
      "Age                   1000 non-null int64\n",
      "Experience            1000 non-null int64\n",
      "Income                1000 non-null int64\n",
      "ZIP Code              1000 non-null int64\n",
      "Family                1000 non-null int64\n",
      "CCAvg                 1000 non-null float64\n",
      "Education             1000 non-null int64\n",
      "Mortgage              1000 non-null int64\n",
      "Securities Account    1000 non-null int64\n",
      "CD Account            1000 non-null int64\n",
      "Online                1000 non-null int64\n",
      "CreditCard            1000 non-null int64\n",
      "Personal Loan         1000 non-null int64\n",
      "dtypes: float64(1), int64(13)\n",
      "memory usage: 117.2 KB\n",
      "None\n"
     ]
    }
   ],
   "source": [
    "from sklearn.model_selection import train_test_split;\n",
    "\n",
    "df_train,df_test=train_test_split(df_encode,test_size=0.2);\n",
    "print(df_train.head());\n",
    "print(df_test.head());\n",
    "\n",
    "print(df_train.info());\n",
    "print(df_test.info());\n"
   ]
  },
  {
   "cell_type": "code",
   "execution_count": 10,
   "metadata": {},
   "outputs": [
    {
     "name": "stdout",
     "output_type": "stream",
     "text": [
      "0.90825\n"
     ]
    },
    {
     "name": "stderr",
     "output_type": "stream",
     "text": [
      "G:\\anaconda\\lib\\site-packages\\sklearn\\utils\\validation.py:578: DataConversionWarning: A column-vector y was passed when a 1d array was expected. Please change the shape of y to (n_samples, ), for example using ravel().\n",
      "  y = column_or_1d(y, warn=True)\n"
     ]
    }
   ],
   "source": [
    "from sklearn.linear_model import LogisticRegression;\n",
    "model=LogisticRegression();\n",
    "model.fit(df_train[features],df_train[target]);\n",
    "print(model.score(df_train[features],df_train[target]));"
   ]
  },
  {
   "cell_type": "code",
   "execution_count": 11,
   "metadata": {},
   "outputs": [
    {
     "name": "stdout",
     "output_type": "stream",
     "text": [
      "0.906\n"
     ]
    }
   ],
   "source": [
    "print(model.score(df_test[features],df_test[target]));"
   ]
  },
  {
   "cell_type": "code",
   "execution_count": 20,
   "metadata": {},
   "outputs": [
    {
     "name": "stdout",
     "output_type": "stream",
     "text": [
      "[[3503  110]\n",
      " [ 257  130]]\n",
      "0.90825\n",
      "0.906\n",
      "             precision    recall  f1-score   support\n",
      "\n",
      "          0       0.94      0.96      0.95       907\n",
      "          1       0.49      0.37      0.42        93\n",
      "\n",
      "avg / total       0.90      0.91      0.90      1000\n",
      "\n"
     ]
    }
   ],
   "source": [
    "from sklearn.metrics import confusion_matrix;\n",
    "\n",
    "\n",
    "train_pred=model.predict(df_train[features]);\n",
    "test_pred=model.predict(df_test[features]);\n",
    "train_conf=confusion_matrix(df_train[target],train_pred);\n",
    "test_conf=confusion_matrix(df_test[target],test_pred);\n",
    "\n",
    "print(train_conf);\n",
    "train_p=train_conf[0][0] +train_conf[1][1];\n",
    "train_sum=train_conf.sum();\n",
    "train_acc=train_p/train_sum;\n",
    "\n",
    "\n",
    "print(train_p/train_sum);\n",
    "\n",
    "\n",
    "\n",
    "test_p=test_conf[0][0] +test_conf[1][1];\n",
    "test_sum=test_conf.sum();\n",
    "test_acc=test_p/test_sum;\n",
    "\n",
    "\n",
    "print(test_p/test_sum);\n",
    "\n",
    "\n",
    "\n",
    "from sklearn.metrics import classification_report;\n",
    "print(classification_report(df_test[target],test_pred));"
   ]
  },
  {
   "cell_type": "code",
   "execution_count": 23,
   "metadata": {},
   "outputs": [
    {
     "name": "stdout",
     "output_type": "stream",
     "text": [
      "   ID  Age  Experience    Income  ZIP Code  Family  CCAvg  Education  \\\n",
      "0   1   25           1  0.189815     91107       4    1.6          1   \n",
      "1   2   45          19  0.120370     90089       3    1.5          1   \n",
      "2   3   39          15  0.013889     94720       1    1.0          1   \n",
      "3   4   35           9  0.425926     94112       1    2.7          2   \n",
      "4   5   35           8  0.171296     91330       4    1.0          2   \n",
      "\n",
      "   Mortgage  Securities Account  CD Account  Online  CreditCard  Personal Loan  \n",
      "0       0.0                   1           0       0           0              0  \n",
      "1       0.0                   1           0       0           0              0  \n",
      "2       0.0                   0           0       0           0              0  \n",
      "3       0.0                   0           0       0           0              0  \n",
      "4       0.0                   0           0       0           1              0  \n",
      "(4000, 14)\n",
      "(1000, 14)\n"
     ]
    }
   ],
   "source": [
    "from sklearn.preprocessing import MinMaxScaler;\n",
    "features_to_scale=[\"Mortgage\",\"Income\"];\n",
    "scaler=MinMaxScaler();\n",
    "scaled_values=scaler.fit_transform(df_encode[features_to_scale]);\n",
    "df_encode[\"Mortgage\"]=scaled_values[:,0];\n",
    "df_encode[\"Income\"]=scaled_values[:,1];\n",
    "print(df_encode.head());\n",
    "\n",
    "\n",
    "\n",
    "\n",
    "features=df_encode.columns.drop(\"Personal Loan\");\n",
    "target=[\"Personal Loan\"];\n",
    "\n",
    "\n",
    "df_knn_train,df_knn_test=train_test_split(df_encode,test_size=0.2);\n",
    "print(df_knn_train.shape);\n",
    "print(df_knn_test.shape);\n"
   ]
  },
  {
   "cell_type": "code",
   "execution_count": 49,
   "metadata": {},
   "outputs": [
    {
     "name": "stderr",
     "output_type": "stream",
     "text": [
      "C:\\Users\\User\\AppData\\Roaming\\Python\\Python36\\site-packages\\ipykernel_launcher.py:7: DataConversionWarning: A column-vector y was passed when a 1d array was expected. Please change the shape of y to (n_samples, ), for example using ravel().\n",
      "  import sys\n",
      "C:\\Users\\User\\AppData\\Roaming\\Python\\Python36\\site-packages\\ipykernel_launcher.py:10: DataConversionWarning: A column-vector y was passed when a 1d array was expected. Please change the shape of y to (n_samples, ), for example using ravel().\n",
      "  # Remove the CWD from sys.path while we load stuff.\n",
      "C:\\Users\\User\\AppData\\Roaming\\Python\\Python36\\site-packages\\ipykernel_launcher.py:7: DataConversionWarning: A column-vector y was passed when a 1d array was expected. Please change the shape of y to (n_samples, ), for example using ravel().\n",
      "  import sys\n",
      "C:\\Users\\User\\AppData\\Roaming\\Python\\Python36\\site-packages\\ipykernel_launcher.py:10: DataConversionWarning: A column-vector y was passed when a 1d array was expected. Please change the shape of y to (n_samples, ), for example using ravel().\n",
      "  # Remove the CWD from sys.path while we load stuff.\n",
      "C:\\Users\\User\\AppData\\Roaming\\Python\\Python36\\site-packages\\ipykernel_launcher.py:7: DataConversionWarning: A column-vector y was passed when a 1d array was expected. Please change the shape of y to (n_samples, ), for example using ravel().\n",
      "  import sys\n",
      "C:\\Users\\User\\AppData\\Roaming\\Python\\Python36\\site-packages\\ipykernel_launcher.py:10: DataConversionWarning: A column-vector y was passed when a 1d array was expected. Please change the shape of y to (n_samples, ), for example using ravel().\n",
      "  # Remove the CWD from sys.path while we load stuff.\n",
      "C:\\Users\\User\\AppData\\Roaming\\Python\\Python36\\site-packages\\ipykernel_launcher.py:7: DataConversionWarning: A column-vector y was passed when a 1d array was expected. Please change the shape of y to (n_samples, ), for example using ravel().\n",
      "  import sys\n",
      "C:\\Users\\User\\AppData\\Roaming\\Python\\Python36\\site-packages\\ipykernel_launcher.py:10: DataConversionWarning: A column-vector y was passed when a 1d array was expected. Please change the shape of y to (n_samples, ), for example using ravel().\n",
      "  # Remove the CWD from sys.path while we load stuff.\n",
      "C:\\Users\\User\\AppData\\Roaming\\Python\\Python36\\site-packages\\ipykernel_launcher.py:7: DataConversionWarning: A column-vector y was passed when a 1d array was expected. Please change the shape of y to (n_samples, ), for example using ravel().\n",
      "  import sys\n",
      "C:\\Users\\User\\AppData\\Roaming\\Python\\Python36\\site-packages\\ipykernel_launcher.py:10: DataConversionWarning: A column-vector y was passed when a 1d array was expected. Please change the shape of y to (n_samples, ), for example using ravel().\n",
      "  # Remove the CWD from sys.path while we load stuff.\n",
      "C:\\Users\\User\\AppData\\Roaming\\Python\\Python36\\site-packages\\ipykernel_launcher.py:7: DataConversionWarning: A column-vector y was passed when a 1d array was expected. Please change the shape of y to (n_samples, ), for example using ravel().\n",
      "  import sys\n",
      "C:\\Users\\User\\AppData\\Roaming\\Python\\Python36\\site-packages\\ipykernel_launcher.py:10: DataConversionWarning: A column-vector y was passed when a 1d array was expected. Please change the shape of y to (n_samples, ), for example using ravel().\n",
      "  # Remove the CWD from sys.path while we load stuff.\n",
      "C:\\Users\\User\\AppData\\Roaming\\Python\\Python36\\site-packages\\ipykernel_launcher.py:7: DataConversionWarning: A column-vector y was passed when a 1d array was expected. Please change the shape of y to (n_samples, ), for example using ravel().\n",
      "  import sys\n",
      "C:\\Users\\User\\AppData\\Roaming\\Python\\Python36\\site-packages\\ipykernel_launcher.py:10: DataConversionWarning: A column-vector y was passed when a 1d array was expected. Please change the shape of y to (n_samples, ), for example using ravel().\n",
      "  # Remove the CWD from sys.path while we load stuff.\n",
      "C:\\Users\\User\\AppData\\Roaming\\Python\\Python36\\site-packages\\ipykernel_launcher.py:7: DataConversionWarning: A column-vector y was passed when a 1d array was expected. Please change the shape of y to (n_samples, ), for example using ravel().\n",
      "  import sys\n",
      "C:\\Users\\User\\AppData\\Roaming\\Python\\Python36\\site-packages\\ipykernel_launcher.py:10: DataConversionWarning: A column-vector y was passed when a 1d array was expected. Please change the shape of y to (n_samples, ), for example using ravel().\n",
      "  # Remove the CWD from sys.path while we load stuff.\n",
      "C:\\Users\\User\\AppData\\Roaming\\Python\\Python36\\site-packages\\ipykernel_launcher.py:7: DataConversionWarning: A column-vector y was passed when a 1d array was expected. Please change the shape of y to (n_samples, ), for example using ravel().\n",
      "  import sys\n",
      "C:\\Users\\User\\AppData\\Roaming\\Python\\Python36\\site-packages\\ipykernel_launcher.py:10: DataConversionWarning: A column-vector y was passed when a 1d array was expected. Please change the shape of y to (n_samples, ), for example using ravel().\n",
      "  # Remove the CWD from sys.path while we load stuff.\n"
     ]
    },
    {
     "name": "stdout",
     "output_type": "stream",
     "text": [
      "[1.0, 0.92725, 0.9305, 0.91, 0.913, 0.9065, 0.90775, 0.9045, 0.905]\n",
      "[1.0, 0.919, 0.922, 0.909, 0.911, 0.907, 0.907, 0.907, 0.907]\n"
     ]
    },
    {
     "data": {
      "image/png": "[encoded data removed]",
      "text/plain": [
       "<Figure size 432x288 with 1 Axes>"
      ]
     },
     "metadata": {},
     "output_type": "display_data"
    }
   ],
   "source": [
    "from sklearn.neighbors import KNeighborsClassifier;\n",
    "train_acc=[];\n",
    "test_acc=[];\n",
    "k_val=[i for i in range(1,10)];\n",
    "for k in k_val:\n",
    "    model=KNeighborsClassifier(n_neighbors=k,metric=\"euclidean\");\n",
    "    model.fit(df_train[features],df_train[target]);\n",
    "    train_score=model.score(df_train[features],df_train[target]);\n",
    "    train_acc.append(train_score);\n",
    "    model.fit(df_test[features],df_test[target]);\n",
    "    test_score=model.score(df_test[features],df_test[target]);\n",
    "    test_acc.append(test_score);\n",
    "    \n",
    "    \n",
    "print(train_acc);\n",
    "print(test_acc);\n",
    "plt.plot(k_val,train_acc,label=\"train_accuracy\");\n",
    "plt.plot(k_val,test_acc,label=\"test_accuracy\");\n",
    "plt.legend();"
   ]
  },
  {
   "cell_type": "code",
   "execution_count": 50,
   "metadata": {},
   "outputs": [
    {
     "name": "stderr",
     "output_type": "stream",
     "text": [
      "G:\\anaconda\\lib\\site-packages\\sklearn\\utils\\validation.py:578: DataConversionWarning: A column-vector y was passed when a 1d array was expected. Please change the shape of y to (n_samples, ), for example using ravel().\n",
      "  y = column_or_1d(y, warn=True)\n"
     ]
    },
    {
     "name": "stdout",
     "output_type": "stream",
     "text": [
      "1.0\n"
     ]
    }
   ],
   "source": [
    "from sklearn.svm import SVC;\n",
    "model=SVC(kernel=\"rbf\");\n",
    "model.fit(df_train[features],df_train[target]);\n",
    "\n",
    "print(model.score(df_train[features],df_train[target]));\n",
    "from mlxtend.plotting import plot_decision_regions;\n",
    "feat=[\"Mortgage\",\"Income\"];\n",
    "X=np.array(df[feat]);\n",
    "y=np.array(df[\"Personal Loan\"]).ravel();\n",
    "#plot_decision_regions(X,y,clf=model);\n",
    "#plt.label(\"X\");\n",
    "#plt.label(\"Y\");\n",
    "#plt.legend();\n",
    "\n",
    "\n"
   ]
  },
  {
   "cell_type": "code",
   "execution_count": 51,
   "metadata": {},
   "outputs": [
    {
     "name": "stdout",
     "output_type": "stream",
     "text": [
      "0.97925\n",
      "0.984\n",
      "[[3608    5]\n",
      " [  78  309]]\n",
      "0.97925\n",
      "0.984\n",
      "             precision    recall  f1-score   support\n",
      "\n",
      "          0       0.98      1.00      0.99       907\n",
      "          1       1.00      0.83      0.91        93\n",
      "\n",
      "avg / total       0.98      0.98      0.98      1000\n",
      "\n"
     ]
    }
   ],
   "source": [
    "from sklearn.tree import DecisionTreeClassifier;\n",
    "\n",
    "\n",
    "model=DecisionTreeClassifier(min_samples_split=10,min_impurity_decrease=0.005);\n",
    "model.fit(df_train[features],df_train[target]);\n",
    "print(model.score(df_train[features],df_train[target]));\n",
    "\n",
    "\n",
    "print(model.score(df_test[features],df_test[target]));\n",
    "\n",
    "train_pred=model.predict(df_train[features]);\n",
    "test_pred=model.predict(df_test[features]);\n",
    "train_conf=confusion_matrix(df_train[target],train_pred);\n",
    "test_conf=confusion_matrix(df_test[target],test_pred);\n",
    "\n",
    "print(train_conf);\n",
    "train_p=train_conf[0][0] +train_conf[1][1];\n",
    "train_sum=train_conf.sum();\n",
    "train_acc=train_p/train_sum;\n",
    "\n",
    "\n",
    "print(train_p/train_sum);\n",
    "\n",
    "\n",
    "\n",
    "test_p=test_conf[0][0] +test_conf[1][1];\n",
    "test_sum=test_conf.sum();\n",
    "test_acc=test_p/test_sum;\n",
    "\n",
    "\n",
    "print(test_p/test_sum);\n",
    "\n",
    "\n",
    "\n",
    "from sklearn.metrics import classification_report;\n",
    "print(classification_report(df_test[target],test_pred));\n",
    "\n",
    "\n",
    "\n",
    "\n",
    "#from sklearn.tree import export_graphviz;\n",
    "#import graphviz;\n"
   ]
  },
  {
   "cell_type": "code",
   "execution_count": 58,
   "metadata": {},
   "outputs": [
    {
     "name": "stdout",
     "output_type": "stream",
     "text": [
      "KMeans(algorithm='auto', copy_x=True, init='k-means++', max_iter=300,\n",
      "    n_clusters=2, n_init=10, n_jobs=1, precompute_distances='auto',\n",
      "    random_state=None, tol=0.0001, verbose=0)\n",
      "[[2.48968895e+03 4.55547170e+01 2.03175202e+01 7.52000000e+01\n",
      "  9.14964469e+04 2.37735849e+00 1.98674933e+00 1.88463612e+00\n",
      "  5.60097035e+01 1.00269542e-01 5.06738544e-02 5.88140162e-01\n",
      "  2.85175202e-01]\n",
      " [2.54453846e+03 4.50578089e+01 1.98060606e+01 7.16783217e+01\n",
      "  9.45916047e+04 2.43123543e+00 1.90930070e+00 1.88251748e+00\n",
      "  5.41636364e+01 9.65034965e-02 6.34032634e-02 6.12121212e-01\n",
      "  3.06293706e-01]]\n"
     ]
    }
   ],
   "source": [
    "from sklearn.cluster import KMeans;\n",
    "model=KMeans(n_clusters=2);\n",
    "print(model.fit(df_train[features]));\n",
    "print(model.cluster_centers_);\n",
    "\n",
    "\n"
   ]
  },
  {
   "cell_type": "code",
   "execution_count": 63,
   "metadata": {},
   "outputs": [
    {
     "name": "stdout",
     "output_type": "stream",
     "text": [
      "-11218554318.691048\n"
     ]
    },
    {
     "name": "stderr",
     "output_type": "stream",
     "text": [
      "C:\\Users\\User\\AppData\\Roaming\\Python\\Python36\\site-packages\\ipykernel_launcher.py:2: SettingWithCopyWarning: \n",
      "A value is trying to be set on a copy of a slice from a DataFrame.\n",
      "Try using .loc[row_indexer,col_indexer] = value instead\n",
      "\n",
      "See the caveats in the documentation: http://pandas.pydata.org/pandas-docs/stable/indexing.html#indexing-view-versus-copy\n",
      "  \n"
     ]
    }
   ],
   "source": [
    "\n",
    "df_train[\"cluster\"] = kmeans.labels_\n",
    "sns.set_style('whitegrid')\n",
    "\n",
    "\n",
    "\n",
    "\n",
    "print(model.score(df_train[features],df_train[target]));\n",
    "#sns.lmplot('mean_dist_day','mean_over_speed_perc',data=df_train, hue='cluster',palette='coolwarm',size=6,aspect=1,fit_reg=False)"
   ]
  },
  {
   "cell_type": "code",
   "execution_count": null,
   "metadata": {},
   "outputs": [],
   "source": []
  }
 ],
 "metadata": {
  "kernelspec": {
   "display_name": "Python 3",
   "language": "python",
   "name": "python3"
  },
  "language_info": {
   "codemirror_mode": {
    "name": "ipython",
    "version": 3
   },
   "file_extension": ".py",
   "mimetype": "text/x-python",
   "name": "python",
   "nbconvert_exporter": "python",
   "pygments_lexer": "ipython3",
   "version": "3.6.5"
  }
 },
 "nbformat": 4,
 "nbformat_minor": 2
}
